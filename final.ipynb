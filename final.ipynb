{
 "cells": [
  {
   "cell_type": "code",
   "execution_count": 1,
   "metadata": {},
   "outputs": [],
   "source": [
    "import numpy as np\n",
    "import pandas as pd\n",
    "import matplotlib.pyplot as plt\n",
    "import seaborn as sns\n",
    "%matplotlib inline\n",
    "sns.set_style(\"whitegrid\")\n",
    "plt.style.use(\"fivethirtyeight\")"
   ]
  },
  {
   "cell_type": "code",
   "execution_count": 2,
   "metadata": {},
   "outputs": [],
   "source": [
    "df = pd.read_csv(\"train.csv\")\n",
    "# test = pd.read_csv(\"test.csv\")\n",
    "# test_y = pd.read_csv(\"Y.csv\")\n",
    "# train\n",
    "# test"
   ]
  },
  {
   "cell_type": "code",
   "execution_count": 3,
   "metadata": {},
   "outputs": [
    {
     "data": {
      "text/html": [
       "<div>\n",
       "<style scoped>\n",
       "    .dataframe tbody tr th:only-of-type {\n",
       "        vertical-align: middle;\n",
       "    }\n",
       "\n",
       "    .dataframe tbody tr th {\n",
       "        vertical-align: top;\n",
       "    }\n",
       "\n",
       "    .dataframe thead th {\n",
       "        text-align: right;\n",
       "    }\n",
       "</style>\n",
       "<table border=\"1\" class=\"dataframe\">\n",
       "  <thead>\n",
       "    <tr style=\"text-align: right;\">\n",
       "      <th></th>\n",
       "      <th>case_id</th>\n",
       "      <th>Hospital_code</th>\n",
       "      <th>Hospital_type_code</th>\n",
       "      <th>City_Code_Hospital</th>\n",
       "      <th>Hospital_region_code</th>\n",
       "      <th>Available Extra Rooms in Hospital</th>\n",
       "      <th>Department</th>\n",
       "      <th>Ward_Type</th>\n",
       "      <th>Ward_Facility_Code</th>\n",
       "      <th>Bed Grade</th>\n",
       "      <th>patientid</th>\n",
       "      <th>City_Code_Patient</th>\n",
       "      <th>Type of Admission</th>\n",
       "      <th>Severity of Illness</th>\n",
       "      <th>Visitors with Patient</th>\n",
       "      <th>Age</th>\n",
       "      <th>Admission_Deposit</th>\n",
       "      <th>Stay</th>\n",
       "    </tr>\n",
       "  </thead>\n",
       "  <tbody>\n",
       "    <tr>\n",
       "      <th>0</th>\n",
       "      <td>1</td>\n",
       "      <td>8</td>\n",
       "      <td>c</td>\n",
       "      <td>3</td>\n",
       "      <td>Z</td>\n",
       "      <td>3</td>\n",
       "      <td>radiotherapy</td>\n",
       "      <td>R</td>\n",
       "      <td>F</td>\n",
       "      <td>2.0</td>\n",
       "      <td>31397</td>\n",
       "      <td>7.0</td>\n",
       "      <td>Emergency</td>\n",
       "      <td>Extreme</td>\n",
       "      <td>2</td>\n",
       "      <td>51-60</td>\n",
       "      <td>4911.0</td>\n",
       "      <td>0-10</td>\n",
       "    </tr>\n",
       "    <tr>\n",
       "      <th>1</th>\n",
       "      <td>2</td>\n",
       "      <td>2</td>\n",
       "      <td>c</td>\n",
       "      <td>5</td>\n",
       "      <td>Z</td>\n",
       "      <td>2</td>\n",
       "      <td>radiotherapy</td>\n",
       "      <td>S</td>\n",
       "      <td>F</td>\n",
       "      <td>2.0</td>\n",
       "      <td>31397</td>\n",
       "      <td>7.0</td>\n",
       "      <td>Trauma</td>\n",
       "      <td>Extreme</td>\n",
       "      <td>2</td>\n",
       "      <td>51-60</td>\n",
       "      <td>5954.0</td>\n",
       "      <td>41-50</td>\n",
       "    </tr>\n",
       "    <tr>\n",
       "      <th>2</th>\n",
       "      <td>3</td>\n",
       "      <td>10</td>\n",
       "      <td>e</td>\n",
       "      <td>1</td>\n",
       "      <td>X</td>\n",
       "      <td>2</td>\n",
       "      <td>anesthesia</td>\n",
       "      <td>S</td>\n",
       "      <td>E</td>\n",
       "      <td>2.0</td>\n",
       "      <td>31397</td>\n",
       "      <td>7.0</td>\n",
       "      <td>Trauma</td>\n",
       "      <td>Extreme</td>\n",
       "      <td>2</td>\n",
       "      <td>51-60</td>\n",
       "      <td>4745.0</td>\n",
       "      <td>31-40</td>\n",
       "    </tr>\n",
       "    <tr>\n",
       "      <th>3</th>\n",
       "      <td>4</td>\n",
       "      <td>26</td>\n",
       "      <td>b</td>\n",
       "      <td>2</td>\n",
       "      <td>Y</td>\n",
       "      <td>2</td>\n",
       "      <td>radiotherapy</td>\n",
       "      <td>R</td>\n",
       "      <td>D</td>\n",
       "      <td>2.0</td>\n",
       "      <td>31397</td>\n",
       "      <td>7.0</td>\n",
       "      <td>Trauma</td>\n",
       "      <td>Extreme</td>\n",
       "      <td>2</td>\n",
       "      <td>51-60</td>\n",
       "      <td>7272.0</td>\n",
       "      <td>41-50</td>\n",
       "    </tr>\n",
       "    <tr>\n",
       "      <th>4</th>\n",
       "      <td>5</td>\n",
       "      <td>26</td>\n",
       "      <td>b</td>\n",
       "      <td>2</td>\n",
       "      <td>Y</td>\n",
       "      <td>2</td>\n",
       "      <td>radiotherapy</td>\n",
       "      <td>S</td>\n",
       "      <td>D</td>\n",
       "      <td>2.0</td>\n",
       "      <td>31397</td>\n",
       "      <td>7.0</td>\n",
       "      <td>Trauma</td>\n",
       "      <td>Extreme</td>\n",
       "      <td>2</td>\n",
       "      <td>51-60</td>\n",
       "      <td>5558.0</td>\n",
       "      <td>41-50</td>\n",
       "    </tr>\n",
       "  </tbody>\n",
       "</table>\n",
       "</div>"
      ],
      "text/plain": [
       "   case_id  Hospital_code Hospital_type_code  City_Code_Hospital  \\\n",
       "0        1              8                  c                   3   \n",
       "1        2              2                  c                   5   \n",
       "2        3             10                  e                   1   \n",
       "3        4             26                  b                   2   \n",
       "4        5             26                  b                   2   \n",
       "\n",
       "  Hospital_region_code  Available Extra Rooms in Hospital    Department  \\\n",
       "0                    Z                                  3  radiotherapy   \n",
       "1                    Z                                  2  radiotherapy   \n",
       "2                    X                                  2    anesthesia   \n",
       "3                    Y                                  2  radiotherapy   \n",
       "4                    Y                                  2  radiotherapy   \n",
       "\n",
       "  Ward_Type Ward_Facility_Code  Bed Grade  patientid  City_Code_Patient  \\\n",
       "0         R                  F        2.0      31397                7.0   \n",
       "1         S                  F        2.0      31397                7.0   \n",
       "2         S                  E        2.0      31397                7.0   \n",
       "3         R                  D        2.0      31397                7.0   \n",
       "4         S                  D        2.0      31397                7.0   \n",
       "\n",
       "  Type of Admission Severity of Illness  Visitors with Patient    Age  \\\n",
       "0         Emergency             Extreme                      2  51-60   \n",
       "1            Trauma             Extreme                      2  51-60   \n",
       "2            Trauma             Extreme                      2  51-60   \n",
       "3            Trauma             Extreme                      2  51-60   \n",
       "4            Trauma             Extreme                      2  51-60   \n",
       "\n",
       "   Admission_Deposit   Stay  \n",
       "0             4911.0   0-10  \n",
       "1             5954.0  41-50  \n",
       "2             4745.0  31-40  \n",
       "3             7272.0  41-50  \n",
       "4             5558.0  41-50  "
      ]
     },
     "execution_count": 3,
     "metadata": {},
     "output_type": "execute_result"
    }
   ],
   "source": [
    "df.head()"
   ]
  },
  {
   "cell_type": "code",
   "execution_count": 6,
   "metadata": {},
   "outputs": [
    {
     "name": "stdout",
     "output_type": "stream",
     "text": [
      "<class 'pandas.core.frame.DataFrame'>\n",
      "Int64Index: 213353 entries, 99874 to 121958\n",
      "Data columns (total 18 columns):\n",
      " #   Column                             Non-Null Count   Dtype  \n",
      "---  ------                             --------------   -----  \n",
      " 0   case_id                            213353 non-null  int64  \n",
      " 1   Hospital_code                      213353 non-null  int64  \n",
      " 2   Hospital_type_code                 213353 non-null  object \n",
      " 3   City_Code_Hospital                 213353 non-null  int64  \n",
      " 4   Hospital_region_code               213353 non-null  object \n",
      " 5   Available Extra Rooms in Hospital  213353 non-null  int64  \n",
      " 6   Department                         213353 non-null  object \n",
      " 7   Ward_Type                          213353 non-null  object \n",
      " 8   Ward_Facility_Code                 213353 non-null  object \n",
      " 9   Bed Grade                          213276 non-null  float64\n",
      " 10  patientid                          213353 non-null  int64  \n",
      " 11  City_Code_Patient                  210314 non-null  float64\n",
      " 12  Type of Admission                  213353 non-null  object \n",
      " 13  Severity of Illness                213353 non-null  object \n",
      " 14  Visitors with Patient              213353 non-null  int64  \n",
      " 15  Age                                213353 non-null  object \n",
      " 16  Admission_Deposit                  213353 non-null  float64\n",
      " 17  Stay                               213353 non-null  object \n",
      "dtypes: float64(3), int64(6), object(9)\n",
      "memory usage: 30.9+ MB\n"
     ]
    }
   ],
   "source": [
    "train.info()"
   ]
  },
  {
   "cell_type": "code",
   "execution_count": 5,
   "metadata": {},
   "outputs": [
    {
     "name": "stdout",
     "output_type": "stream",
     "text": [
      "        case_id  Hospital_code Hospital_type_code  City_Code_Hospital  \\\n",
      "99874     99875             26                  b                   2   \n",
      "169855   169856              2                  c                   5   \n",
      "141236   141237             28                  b                  11   \n",
      "266640   266641             28                  b                  11   \n",
      "154872   154873             32                  f                   9   \n",
      "...         ...            ...                ...                 ...   \n",
      "119879   119880             11                  b                   2   \n",
      "259178   259179             15                  c                   5   \n",
      "131932   131933             23                  a                   6   \n",
      "146867   146868             15                  c                   5   \n",
      "121958   121959             17                  e                   1   \n",
      "\n",
      "       Hospital_region_code  Available Extra Rooms in Hospital    Department  \\\n",
      "99874                     Y                                  4    gynecology   \n",
      "169855                    Z                                  2    gynecology   \n",
      "141236                    X                                  3  radiotherapy   \n",
      "266640                    X                                  2  radiotherapy   \n",
      "154872                    Y                                  2    gynecology   \n",
      "...                     ...                                ...           ...   \n",
      "119879                    Y                                  2    gynecology   \n",
      "259178                    Z                                  4    gynecology   \n",
      "131932                    X                                  2    gynecology   \n",
      "146867                    Z                                  4    gynecology   \n",
      "121958                    X                                  3    gynecology   \n",
      "\n",
      "       Ward_Type Ward_Facility_Code  Bed Grade  patientid  City_Code_Patient  \\\n",
      "99874          Q                  D        2.0      27049                8.0   \n",
      "169855         S                  F        2.0      37371                8.0   \n",
      "141236         R                  F        4.0     108777                8.0   \n",
      "266640         R                  F        3.0     118063                1.0   \n",
      "154872         S                  B        3.0     112033                8.0   \n",
      "...          ...                ...        ...        ...                ...   \n",
      "119879         Q                  D        4.0     103234                8.0   \n",
      "259178         P                  F        2.0      46847                6.0   \n",
      "131932         R                  F        4.0      36744                2.0   \n",
      "146867         Q                  F        3.0      77504                5.0   \n",
      "121958         R                  E        2.0      61635                8.0   \n",
      "\n",
      "       Type of Admission Severity of Illness  Visitors with Patient    Age  \\\n",
      "99874          Emergency            Moderate                      3  71-80   \n",
      "169855            Trauma            Moderate                      2  51-60   \n",
      "141236         Emergency            Moderate                      8  41-50   \n",
      "266640            Trauma               Minor                      4  41-50   \n",
      "154872         Emergency             Extreme                      2  61-70   \n",
      "...                  ...                 ...                    ...    ...   \n",
      "119879            Trauma            Moderate                      2  11-20   \n",
      "259178            Urgent             Extreme                      5  31-40   \n",
      "131932            Urgent            Moderate                      2  31-40   \n",
      "146867            Urgent            Moderate                      4  41-50   \n",
      "121958         Emergency               Minor                      6  51-60   \n",
      "\n",
      "        Admission_Deposit                Stay  \n",
      "99874              5892.0               51-60  \n",
      "169855             4972.0               21-30  \n",
      "141236             2804.0  More than 100 Days  \n",
      "266640             4462.0              91-100  \n",
      "154872             5722.0               11-20  \n",
      "...                   ...                 ...  \n",
      "119879             4727.0               11-20  \n",
      "259178             6568.0               21-30  \n",
      "131932             6234.0               21-30  \n",
      "146867             3973.0               11-20  \n",
      "121958             3885.0              91-100  \n",
      "\n",
      "[213353 rows x 18 columns]\n"
     ]
    }
   ],
   "source": [
    "from sklearn.model_selection import train_test_split\n",
    "\n",
    "train_x,test_x,train_y,test_y = train_test_split(df.drop(['Stay'],axis=1), df.Stay, test_size=0.33 ,random_state=42)\n",
    "train=pd.concat([train_x,train_y],axis=1)\n",
    "print(train)\n",
    "test = test_x"
   ]
  },
  {
   "cell_type": "code",
   "execution_count": 7,
   "metadata": {
    "scrolled": true
   },
   "outputs": [
    {
     "name": "stdout",
     "output_type": "stream",
     "text": [
      "==================================\n",
      "case_id\n",
      "[ 99875 169856 141237 ... 131933 146868 121959]\n",
      "==================================\n",
      "Hospital_code\n",
      "[26  2 28 32 14 19 23 27 25  5 15 30 11 12 10 18 24  6  1 29 21  8 31  9\n",
      " 17  3 13 16  4  7 20 22]\n",
      "==================================\n",
      "Hospital_type_code\n",
      "['b' 'c' 'f' 'a' 'e' 'd' 'g']\n",
      "==================================\n",
      "City_Code_Hospital\n",
      "[ 2  5 11  9  1  7  6  3 13 10  4]\n",
      "==================================\n",
      "Hospital_region_code\n",
      "['Y' 'Z' 'X']\n",
      "==================================\n",
      "Available Extra Rooms in Hospital\n",
      "[ 4  2  3  5  6  1  7  8 10  9 12  0 13 11 21 20 14]\n",
      "==================================\n",
      "Department\n",
      "['gynecology' 'radiotherapy' 'anesthesia' 'TB & Chest disease' 'surgery']\n",
      "==================================\n",
      "Ward_Type\n",
      "['Q' 'S' 'R' 'T' 'P' 'U']\n",
      "==================================\n",
      "Ward_Facility_Code\n",
      "['D' 'F' 'B' 'E' 'C' 'A']\n",
      "==================================\n",
      "Bed Grade\n",
      "[ 2.  4.  3.  1. nan]\n",
      "==================================\n",
      "patientid\n",
      "[ 27049  37371 108777 ...  17121  67594  61635]\n",
      "==================================\n",
      "City_Code_Patient\n",
      "[ 8.  1.  9. 10.  2. 16.  4. 18.  7. 23.  5.  6. 15. 13. 19.  3. nan 25.\n",
      " 22. 28. 12. 21. 27. 26. 11. 20. 14. 38. 24. 33. 32. 31. 34. 30. 29. 37.\n",
      " 35. 36.]\n",
      "==================================\n",
      "Type of Admission\n",
      "['Emergency' 'Trauma' 'Urgent']\n",
      "==================================\n",
      "Severity of Illness\n",
      "['Moderate' 'Minor' 'Extreme']\n",
      "==================================\n",
      "Visitors with Patient\n",
      "[ 3  2  8  4  6  5 12 17  9 10 14 30  7  1 16 23 18 11 15 19 20  0 13 24\n",
      " 21 25 22 32]\n",
      "==================================\n",
      "Age\n",
      "['71-80' '51-60' '41-50' '61-70' '21-30' '11-20' '31-40' '81-90' '0-10'\n",
      " '91-100']\n",
      "==================================\n",
      "Admission_Deposit\n",
      "[5892. 4972. 2804. ... 9171. 2340. 2031.]\n",
      "==================================\n",
      "Stay\n",
      "['51-60' '21-30' 'More than 100 Days' '91-100' '11-20' '0-10' '31-40'\n",
      " '71-80' '41-50' '61-70' '81-90']\n"
     ]
    }
   ],
   "source": [
    "for col in train.columns:\n",
    "    print(\"==================================\")\n",
    "    print(col)\n",
    "    print(train[col].unique())"
   ]
  },
  {
   "cell_type": "code",
   "execution_count": 8,
   "metadata": {},
   "outputs": [
    {
     "data": {
      "text/plain": [
       "case_id                                 0\n",
       "Hospital_code                           0\n",
       "Hospital_type_code                      0\n",
       "City_Code_Hospital                      0\n",
       "Hospital_region_code                    0\n",
       "Available Extra Rooms in Hospital       0\n",
       "Department                              0\n",
       "Ward_Type                               0\n",
       "Ward_Facility_Code                      0\n",
       "Bed Grade                              77\n",
       "patientid                               0\n",
       "City_Code_Patient                    3039\n",
       "Type of Admission                       0\n",
       "Severity of Illness                     0\n",
       "Visitors with Patient                   0\n",
       "Age                                     0\n",
       "Admission_Deposit                       0\n",
       "Stay                                    0\n",
       "dtype: int64"
      ]
     },
     "execution_count": 8,
     "metadata": {},
     "output_type": "execute_result"
    }
   ],
   "source": [
    "## checking null\n",
    "train.isna().sum()"
   ]
  },
  {
   "cell_type": "markdown",
   "metadata": {},
   "source": [
    "## Data Processsing "
   ]
  },
  {
   "cell_type": "code",
   "execution_count": 9,
   "metadata": {},
   "outputs": [],
   "source": [
    "train = train.drop(['Hospital_region_code', 'Bed Grade', 'patientid', 'City_Code_Patient'], axis = 1)\n",
    "test = test.drop(['Hospital_region_code', 'Bed Grade', 'patientid', 'City_Code_Patient'], axis = 1)\n"
   ]
  },
  {
   "cell_type": "code",
   "execution_count": 10,
   "metadata": {},
   "outputs": [],
   "source": [
    "# Combine test and train dataset for processing\n",
    "combined = [train, test]"
   ]
  },
  {
   "cell_type": "code",
   "execution_count": null,
   "metadata": {},
   "outputs": [],
   "source": []
  },
  {
   "cell_type": "markdown",
   "metadata": {},
   "source": [
    "## Encoding"
   ]
  },
  {
   "cell_type": "code",
   "execution_count": 11,
   "metadata": {},
   "outputs": [],
   "source": [
    "from sklearn.preprocessing import LabelEncoder\n",
    "\n",
    "for dataset in combined:\n",
    "    label = LabelEncoder()\n",
    "    dataset['Department'] = label.fit_transform(dataset['Department'])"
   ]
  },
  {
   "cell_type": "code",
   "execution_count": 12,
   "metadata": {},
   "outputs": [
    {
     "data": {
      "text/plain": [
       "array([2, 0, 1, 3, 4])"
      ]
     },
     "execution_count": 12,
     "metadata": {},
     "output_type": "execute_result"
    }
   ],
   "source": [
    "combined[1].Department.unique()"
   ]
  },
  {
   "cell_type": "code",
   "execution_count": 13,
   "metadata": {},
   "outputs": [],
   "source": [
    "for dataset in combined:\n",
    "    label = LabelEncoder()\n",
    "#     dataset[['Hospital_type_code']]\n",
    "    dataset['Hospital_type_code'] = label.fit_transform(dataset['Hospital_type_code'])\n",
    "    dataset['Ward_Facility_Code'] = label.fit_transform(dataset['Ward_Facility_Code'])\n",
    "    dataset['Ward_Type'] = label.fit_transform(dataset['Ward_Type'])\n",
    "    dataset['Type of Admission'] = label.fit_transform(dataset['Type of Admission'])\n",
    "    dataset['Severity of Illness'] = label.fit_transform(dataset['Severity of Illness'])"
   ]
  },
  {
   "cell_type": "code",
   "execution_count": 14,
   "metadata": {},
   "outputs": [
    {
     "data": {
      "text/plain": [
       "[        case_id  Hospital_code  Hospital_type_code  City_Code_Hospital  \\\n",
       " 99874     99875             26                   1                   2   \n",
       " 169855   169856              2                   2                   5   \n",
       " 141236   141237             28                   1                  11   \n",
       " 266640   266641             28                   1                  11   \n",
       " 154872   154873             32                   5                   9   \n",
       " ...         ...            ...                 ...                 ...   \n",
       " 119879   119880             11                   1                   2   \n",
       " 259178   259179             15                   2                   5   \n",
       " 131932   131933             23                   0                   6   \n",
       " 146867   146868             15                   2                   5   \n",
       " 121958   121959             17                   4                   1   \n",
       " \n",
       "         Available Extra Rooms in Hospital  Department  Ward_Type  \\\n",
       " 99874                                   4           2          1   \n",
       " 169855                                  2           2          3   \n",
       " 141236                                  3           3          2   \n",
       " 266640                                  2           3          2   \n",
       " 154872                                  2           2          3   \n",
       " ...                                   ...         ...        ...   \n",
       " 119879                                  2           2          1   \n",
       " 259178                                  4           2          0   \n",
       " 131932                                  2           2          2   \n",
       " 146867                                  4           2          1   \n",
       " 121958                                  3           2          2   \n",
       " \n",
       "         Ward_Facility_Code  Type of Admission  Severity of Illness  \\\n",
       " 99874                    3                  0                    2   \n",
       " 169855                   5                  1                    2   \n",
       " 141236                   5                  0                    2   \n",
       " 266640                   5                  1                    1   \n",
       " 154872                   1                  0                    0   \n",
       " ...                    ...                ...                  ...   \n",
       " 119879                   3                  1                    2   \n",
       " 259178                   5                  2                    0   \n",
       " 131932                   5                  2                    2   \n",
       " 146867                   5                  2                    2   \n",
       " 121958                   4                  0                    1   \n",
       " \n",
       "         Visitors with Patient    Age  Admission_Deposit                Stay  \n",
       " 99874                       3  71-80             5892.0               51-60  \n",
       " 169855                      2  51-60             4972.0               21-30  \n",
       " 141236                      8  41-50             2804.0  More than 100 Days  \n",
       " 266640                      4  41-50             4462.0              91-100  \n",
       " 154872                      2  61-70             5722.0               11-20  \n",
       " ...                       ...    ...                ...                 ...  \n",
       " 119879                      2  11-20             4727.0               11-20  \n",
       " 259178                      5  31-40             6568.0               21-30  \n",
       " 131932                      2  31-40             6234.0               21-30  \n",
       " 146867                      4  41-50             3973.0               11-20  \n",
       " 121958                      6  51-60             3885.0              91-100  \n",
       " \n",
       " [213353 rows x 14 columns],\n",
       "         case_id  Hospital_code  Hospital_type_code  City_Code_Hospital  \\\n",
       " 245328   245329              8                   2                   3   \n",
       " 239123   239124              5                   0                   1   \n",
       " 280646   280647             29                   0                   4   \n",
       " 89025     89026              9                   3                   5   \n",
       " 517         518             26                   1                   2   \n",
       " ...         ...            ...                 ...                 ...   \n",
       " 56802     56803             26                   1                   2   \n",
       " 275366   275367             29                   0                   4   \n",
       " 115430   115431             26                   1                   2   \n",
       " 21649     21650             29                   0                   4   \n",
       " 288404   288405             26                   1                   2   \n",
       " \n",
       "         Available Extra Rooms in Hospital  Department  Ward_Type  \\\n",
       " 245328                                  4           2          1   \n",
       " 239123                                  6           0          1   \n",
       " 280646                                  3           2          2   \n",
       " 89025                                   2           2          3   \n",
       " 517                                     4           2          1   \n",
       " ...                                   ...         ...        ...   \n",
       " 56802                                   2           2          1   \n",
       " 275366                                  2           2          2   \n",
       " 115430                                  4           2          1   \n",
       " 21649                                   4           2          2   \n",
       " 288404                                  2           1          3   \n",
       " \n",
       "         Ward_Facility_Code  Type of Admission  Severity of Illness  \\\n",
       " 245328                   5                  1                    1   \n",
       " 239123                   4                  1                    0   \n",
       " 280646                   5                  1                    2   \n",
       " 89025                    5                  1                    2   \n",
       " 517                      3                  1                    0   \n",
       " ...                    ...                ...                  ...   \n",
       " 56802                    3                  1                    0   \n",
       " 275366                   5                  2                    2   \n",
       " 115430                   3                  0                    2   \n",
       " 21649                    5                  1                    1   \n",
       " 288404                   3                  1                    0   \n",
       " \n",
       "         Visitors with Patient    Age  Admission_Deposit  \n",
       " 245328                      4  41-50             4185.0  \n",
       " 239123                      6  41-50             4507.0  \n",
       " 280646                      2  41-50             6971.0  \n",
       " 89025                       2  51-60             4795.0  \n",
       " 517                         4  71-80             4806.0  \n",
       " ...                       ...    ...                ...  \n",
       " 56802                       2  31-40             7405.0  \n",
       " 275366                      4  41-50             7510.0  \n",
       " 115430                      4  21-30             4815.0  \n",
       " 21649                       2  31-40             4545.0  \n",
       " 288404                      2  51-60             5533.0  \n",
       " \n",
       " [105085 rows x 13 columns]]"
      ]
     },
     "execution_count": 14,
     "metadata": {},
     "output_type": "execute_result"
    }
   ],
   "source": [
    "combined"
   ]
  },
  {
   "cell_type": "code",
   "execution_count": null,
   "metadata": {},
   "outputs": [],
   "source": []
  },
  {
   "cell_type": "code",
   "execution_count": 15,
   "metadata": {},
   "outputs": [],
   "source": [
    "age_dict = {'0-10': 0, '11-20': 1, '21-30': 2, '31-40': 3, '41-50': 4, '51-60': 5, '61-70': 6, '71-80': 7, '81-90': 8, '91-100': 9}"
   ]
  },
  {
   "cell_type": "code",
   "execution_count": 16,
   "metadata": {},
   "outputs": [],
   "source": [
    "for dataset in combined:\n",
    "    dataset['Age'] = dataset['Age'].replace(age_dict.keys(), age_dict.values())"
   ]
  },
  {
   "cell_type": "code",
   "execution_count": 17,
   "metadata": {},
   "outputs": [],
   "source": [
    "stay_dict = {'0-10': 0, '11-20': 1, '21-30': 2, '31-40': 3, '41-50': 4, '51-60': 5, '61-70': 6, '71-80': 7, '81-90': 8, '91-100': 9, 'More than 100 Days': 10}"
   ]
  },
  {
   "cell_type": "code",
   "execution_count": 18,
   "metadata": {},
   "outputs": [],
   "source": [
    "combined[0]['Stay'] = combined[0]['Stay'].replace(stay_dict.keys(), stay_dict.values())"
   ]
  },
  {
   "cell_type": "code",
   "execution_count": 19,
   "metadata": {},
   "outputs": [
    {
     "data": {
      "text/plain": [
       "<AxesSubplot:>"
      ]
     },
     "execution_count": 19,
     "metadata": {},
     "output_type": "execute_result"
    },
    {
     "data": {
      "image/png": "[encoded data removed]",
      "text/plain": [
       "<Figure size 432x288 with 1 Axes>"
      ]
     },
     "metadata": {},
     "output_type": "display_data"
    }
   ],
   "source": [
    "combined[0].Age.hist()"
   ]
  },
  {
   "cell_type": "code",
   "execution_count": 20,
   "metadata": {},
   "outputs": [
    {
     "data": {
      "text/plain": [
       "<AxesSubplot:>"
      ]
     },
     "execution_count": 20,
     "metadata": {},
     "output_type": "execute_result"
    },
    {
     "data": {
      "image/png": "[encoded data removed]",
      "text/plain": [
       "<Figure size 432x288 with 1 Axes>"
      ]
     },
     "metadata": {},
     "output_type": "display_data"
    }
   ],
   "source": [
    "combined[1].Age.hist()"
   ]
  },
  {
   "cell_type": "code",
   "execution_count": 21,
   "metadata": {},
   "outputs": [],
   "source": [
    "combined[0].to_csv(\"final_train.csv\")"
   ]
  },
  {
   "cell_type": "code",
   "execution_count": 22,
   "metadata": {},
   "outputs": [],
   "source": [
    "combined[1].to_csv(\"final_test.csv\")"
   ]
  },
  {
   "cell_type": "markdown",
   "metadata": {},
   "source": [
    "### Model Developement"
   ]
  },
  {
   "cell_type": "code",
   "execution_count": 23,
   "metadata": {},
   "outputs": [
    {
     "data": {
      "text/plain": [
       "<AxesSubplot:>"
      ]
     },
     "execution_count": 23,
     "metadata": {},
     "output_type": "execute_result"
    },
    {
     "data": {
      "image/png": "[encoded data removed]",
      "text/plain": [
       "<Figure size 432x288 with 2 Axes>"
      ]
     },
     "metadata": {},
     "output_type": "display_data"
    }
   ],
   "source": [
    "sns.heatmap(combined[0].corr())"
   ]
  },
  {
   "cell_type": "code",
   "execution_count": 24,
   "metadata": {},
   "outputs": [],
   "source": [
    "from sklearn.linear_model import LogisticRegression\n",
    "from sklearn.svm import SVC, LinearSVC\n",
    "from sklearn.neighbors import KNeighborsClassifier\n",
    "from sklearn.ensemble import RandomForestClassifier\n",
    "from sklearn.naive_bayes import GaussianNB\n",
    "from sklearn.linear_model import Perceptron\n",
    "from sklearn.linear_model import SGDClassifier\n",
    "from sklearn.tree import DecisionTreeClassifier"
   ]
  },
  {
   "cell_type": "code",
   "execution_count": 25,
   "metadata": {},
   "outputs": [],
   "source": [
    "train = combined[0]\n",
    "test = combined[1]"
   ]
  },
  {
   "cell_type": "code",
   "execution_count": 26,
   "metadata": {},
   "outputs": [
    {
     "ename": "NameError",
     "evalue": "name 'sample' is not defined",
     "output_type": "error",
     "traceback": [
      "\u001b[1;31m---------------------------------------------------------------------------\u001b[0m",
      "\u001b[1;31mNameError\u001b[0m                                 Traceback (most recent call last)",
      "Input \u001b[1;32mIn [26]\u001b[0m, in \u001b[0;36m<cell line: 1>\u001b[1;34m()\u001b[0m\n\u001b[1;32m----> 1\u001b[0m \u001b[43msample\u001b[49m\n",
      "\u001b[1;31mNameError\u001b[0m: name 'sample' is not defined"
     ]
    }
   ],
   "source": [
    "sample"
   ]
  },
  {
   "cell_type": "code",
   "execution_count": 27,
   "metadata": {},
   "outputs": [
    {
     "data": {
      "text/plain": [
       "((213353, 13), (213353,), (105085, 13))"
      ]
     },
     "execution_count": 27,
     "metadata": {},
     "output_type": "execute_result"
    }
   ],
   "source": [
    "X_train = train.drop([ 'Stay'], axis=1)\n",
    "Y_train = train[\"Stay\"]\n",
    "X_test  = test\n",
    "X_train.shape, Y_train.shape, X_test.shape"
   ]
  },
  {
   "cell_type": "code",
   "execution_count": null,
   "metadata": {},
   "outputs": [],
   "source": [
    "# KNN\n",
    "knn = KNeighborsClassifier(n_neighbors = 3)\n",
    "        \n",
    "knn.fit(X_train.iloc[:,[1,2,3,4,5]], Y_train)\n",
    "Y_pred = knn.predict(X_test.iloc[:,[1,2,3,4,5]])\n",
    "acc_knn = round(knn.score(X_train.iloc[:,[1,2,3,4,5]], Y_train) * 100, 2)\n",
    "acc_knn"
   ]
  },
  {
   "cell_type": "code",
   "execution_count": null,
   "metadata": {},
   "outputs": [],
   "source": [
    "from sklearn.metrics import classification_report\n",
    "print(classification_report(Y_train,knn.predict(X_train.iloc[:,[1,2,3,4,5]])))\n",
    "#test_y['Stay'] = test_y['Stay'].replace(stay_dict.keys(), stay_dict.values())"
   ]
  },
  {
   "cell_type": "code",
   "execution_count": null,
   "metadata": {},
   "outputs": [],
   "source": [
    "#print(test_y.Stay.unique())"
   ]
  },
  {
   "cell_type": "code",
   "execution_count": null,
   "metadata": {},
   "outputs": [],
   "source": [
    "from sklearn.metrics import confusion_matrix\n",
    "# test_y = pd.read_csv(d\"C:\\\\Users\\\\kevin\\\\OneDrive\\\\Documents\\\\MSU\\\\1st Sem\\\\CMSE 830  introduction to data science\\\\Mid Project\\\\Intro_to_datascience-_CMSE\\\\test_y.csv\")\n",
    "print(confusion_matrix(Y_train,knn.predict(X_train.iloc[:,[1,2,3,4,5]])))\n"
   ]
  },
  {
   "cell_type": "code",
   "execution_count": null,
   "metadata": {},
   "outputs": [],
   "source": [
    "sns.heatmap(confusion_matrix(Y_train,knn.predict(X_train.iloc[:,[1,2,3,4,5]])))"
   ]
  },
  {
   "cell_type": "code",
   "execution_count": null,
   "metadata": {},
   "outputs": [],
   "source": [
    "# Decision Tree\n",
    "decision_tree = DecisionTreeClassifier()\n",
    "decision_tree.fit(X_train.iloc[:,[1,2,3,4,5,7,8]], Y_train)\n",
    "Y_pred = decision_tree.predict(X_test.iloc[:,[1,2,3,4,5,7,8]])\n",
    "acc_decision_tree = round(decision_tree.score(X_train.iloc[:,[1,2,3,4,5,7,8]], Y_train) * 100, 2)\n",
    "print(acc_decision_tree)\n",
    "test_acc_decision_tree = round(decision_tree.score(X_test.iloc[:,[1,2,3,4,5,7,8]], test_y) * 100, 2)"
   ]
  },
  {
   "cell_type": "code",
   "execution_count": null,
   "metadata": {},
   "outputs": [],
   "source": [
    "from sklearn.metrics import accuracy_score\n",
    "test_pred = decision_tree.predict(X_test.iloc[:,[1,2,3,4,5,7,8]])\n",
    "\n",
    "print(accuracy_score(np.array(test_y.replace(stay_dict.keys(), stay_dict.values())), test_pred))\n"
   ]
  },
  {
   "cell_type": "code",
   "execution_count": null,
   "metadata": {},
   "outputs": [],
   "source": [
    "from sklearn import svm"
   ]
  },
  {
   "cell_type": "code",
   "execution_count": null,
   "metadata": {},
   "outputs": [],
   "source": [
    "svm_model = svm.SVC()"
   ]
  },
  {
   "cell_type": "code",
   "execution_count": null,
   "metadata": {},
   "outputs": [],
   "source": [
    "# svm_model.fit(X_train.iloc[:,[1,2,3,4,5,7,8]], Y_train)\n",
    "# Y_pred = svc_model.predict(X_test.iloc[:,[1,2,3,4,5,7,8]])\n",
    "# acc_svc_model = round(svc_model.score(X_train.iloc[:,[1,2,3,4,5,7,8]], Y_train) * 100, 2)\n",
    "# print(acc_svc_model)\n",
    "# test_acc_svc_model = round(svc_model.score(X_test.iloc[:,[1,2,3,4,5,7,8]], test_y) * 100, 2)"
   ]
  },
  {
   "cell_type": "code",
   "execution_count": 32,
   "metadata": {
    "scrolled": true
   },
   "outputs": [
    {
     "name": "stderr",
     "output_type": "stream",
     "text": [
      "C:\\Users\\kevin\\anaconda3\\lib\\site-packages\\sklearn\\linear_model\\_stochastic_gradient.py:696: ConvergenceWarning: Maximum number of iteration reached before convergence. Consider increasing max_iter to improve the fit.\n",
      "  warnings.warn(\n"
     ]
    },
    {
     "name": "stdout",
     "output_type": "stream",
     "text": [
      "24.69\n"
     ]
    }
   ],
   "source": [
    "from sklearn.linear_model import SGDClassifier\n",
    "SCG_classifier = SGDClassifier(loss=\"hinge\", penalty=\"l2\", max_iter=5)\n",
    "SCG_classifier.fit(X_train.iloc[:,[1,2,3,7,8]], Y_train)\n",
    "Y_pred = SCG_classifier.predict(X_test.iloc[:,[1,2,3,7,8]])\n",
    "acc_SCG_classifier = round(SCG_classifier.score(X_train.iloc[:,[1,2,3,7,8]], Y_train) * 100, 2)\n",
    "print(acc_SCG_classifier)\n",
    "test_acc_SCG_classifier = round(SCG_classifier.score(X_test.iloc[:,[1,2,3,7,8]], test_y) * 100, 2)"
   ]
  },
  {
   "cell_type": "code",
   "execution_count": null,
   "metadata": {},
   "outputs": [],
   "source": []
  }
 ],
 "metadata": {
  "kernelspec": {
   "display_name": "Python 3 (ipykernel)",
   "language": "python",
   "name": "python3"
  },
  "language_info": {
   "codemirror_mode": {
    "name": "ipython",
    "version": 3
   },
   "file_extension": ".py",
   "mimetype": "text/x-python",
   "name": "python",
   "nbconvert_exporter": "python",
   "pygments_lexer": "ipython3",
   "version": "3.9.12"
  },
  "vscode": {
   "interpreter": {
    "hash": "6defd577cd85e3649e86c46a537635b7104b081260a238509c81cac8b534171b"
   }
  }
 },
 "nbformat": 4,
 "nbformat_minor": 2
}
